{
 "cells": [
  {
   "cell_type": "markdown",
   "metadata": {},
   "source": [
    "# Update records on GEOMG via script\n",
    "\n",
    "The script aims to modify the documents on GEOMG via python, especially performing a similar or related modification for a large number of documents. Instead of downloading and reuploading, or opening and editing on wepages, the script helps save a lot of time to update the specific fields all at once.\n",
    "\n",
    "\n",
    "\n",
    "\n",
    "> Originally created by **Gene Cheng [(@Ziiiiing)](https://github.com/Ziiiiing)** on **Oct 3, 2021**"
   ]
  },
  {
   "cell_type": "code",
   "execution_count": null,
   "metadata": {},
   "outputs": [],
   "source": [
    "# uncomment & run this cell if the 'mechanize' module is not installed yet\n",
    "\n",
    "# pip install mechanize"
   ]
  },
  {
   "cell_type": "code",
   "execution_count": null,
   "metadata": {},
   "outputs": [],
   "source": [
    "import mechanize\n",
    "import time\n",
    "import csv"
   ]
  },
  {
   "cell_type": "markdown",
   "metadata": {},
   "source": [
    "## Step 1: Prepare Modification\n",
    "\n",
    "Prepare the **new value** and the corresponding **name** for each updated field. **Name** here refers to the name attribute of the input element in HTML. Store all pairs in a dictionary.\n",
    "\n",
    "> For example, the `name` attribute for `<input class=\"...\" type=\"text\" name=\"document[title]\" value=\"...\" id=\"...\">` is **document[title]**.\n",
    "\n",
    "\n",
    "**Following tables provide the name attribute corresponding to each editable field:**\n",
    "\n",
    "***[will be finished soon]***\n"
   ]
  },
  {
   "cell_type": "markdown",
   "metadata": {},
   "source": [
    "\n",
    "#### Identification\n",
    "|             | Field              | Name attr.                                  | Control Type | Format    |\n",
    "| :---------- | :----------------- | :------------------------------------------ | :----------- | :-------- |\n",
    "| Descriptive | Title              | document[title]                             |              |           |\n",
    "|             | Alternative Title  | document[dct_alternative_sm_attributes][]   |              |           |\n",
    "|             | Description        | document[dct_description_sm_attributes][]   |              |           |\n",
    "|             | Language           | document[dct_language_sm_attributes][]      |              |           |\n",
    "| Credits     | Creator            | document[dct_creator_sm_attributes][]       |              |           |\n",
    "|             | Publisher          | document[dct_publisher_sm_attributes][]     |              |           |\n",
    "|             | Provider           | document[schema_provider_s]                 |              |           |\n",
    "| Categories  | Resource Class     | document[gbl_resourceClass_sm_attributes][] |              |           |\n",
    "|             | Resource Type      | document[gbl_resourceType_sm_attributes][]  |              |           |\n",
    "|             | Subject            | document[dct_subject_sm_attributes][]       |              |           |\n",
    "|             | ISO Topic Category | document[dcat_theme_sm_attributes][]        |              |           |\n",
    "|             | Keyword            | document[dcat_keyword_sm_attributes][]      |              |           |\n",
    "| Temporal    | Temporal Coverage  | document[dct_temporal_sm_attributes][]      |              |           |\n",
    "|             | Date Issued        | document[dct_issued_s]                      |              | YYYY      |\n",
    "|             | Date range         | document[gbl_dateRange_drsim_attributes][]  |              | YYYY-YYYY |\n",
    "| Spatial     | Spatial Coverage   | document[dct_spatial_sm_attributes][]       |              |           |\n",
    "|             | Bounding Box       | document[locn_geometry]                     |              | W,S,E,N   |\n",
    "|             | GeoNames           | document[b1g_geonames_sm_attributes][]      |              |           |\n",
    "| Relations   | Relation           | document[dct_relation_sm_attributes][]      |              |           |\n",
    "|             | Member Of          | document[pcdm_memberOf_sm_attributes][]     |              |           |\n",
    "|             | Is Part Of         | document[dct_isPartOf_sm_attributes][]      |              |           |\n",
    "|             | Source             | document[dct_source_sm_attributes][]        |              |           |\n",
    "|             | Version            | document[dct_isVersionOf_sm_attributes][]   |              |           |\n",
    "|             | Replaces           | document[dct_replaces_sm_attributes][]      |              |           |\n",
    "|             | Is Replace By      | document[dct_isReplacedBy_sm_attributes][]  |              |           |\n",
    "\n",
    "#### Distribution\n",
    "|        | Field              | Name attr.                                             | Control Type | Format |\n",
    "| :----- | :----------------- | :----------------------------------------------------- | :----------- | :----- |\n",
    "| Object | Format             | document[dct_format_s]                                 |              |        |\n",
    "|        | File Size          | document[gbl_fileSize_s]                               |              |        |\n",
    "|        | WxS Identifier     | document[gbl_wxsIdentifier_s]                          |              |        |\n",
    "|        | Georeferenced      | document[gbl_georeferenced_b]                          |              |        |\n",
    "| Links  | Reference Category | document[dct_references_s_attributes][index][category] |              |        |\n",
    "|        | Reference Value    | document[dct_references_s_attributes][index][value]    |              |        |\n",
    "|        | B1G Image URL      | document[b1g_image_ss]                                 |              |        |\n",
    "\n",
    "#### Administrative\n",
    "|               | Field               | Name attr.                                    | Control Type | Format |\n",
    "| :------------ | :------------------ | :-------------------------------------------- | :----------- | :----- |\n",
    "| Codes         | ID                  | document[geomg_id_s]                          |              |        |\n",
    "|               | Identifier          | document[dct_identifier_sm_attributes][]      |              |        |\n",
    "|               | Code                | document[b1g_code_s]                          |              |        |\n",
    "| Rights        | Access Rights       | document[dct_accessRights_s]                  |              |        |\n",
    "|               | Right Holder        | document[dct_rightsHolder_sm_attributes][]    |              |        |\n",
    "|               | License             | document[dct_license_sm_attributes][]         |              |        |\n",
    "|               | Rights              | document[dct_rights_sm_attributes][]          |              |        |\n",
    "| Life Cycle    | Accrual Method      | document[b1g_dct_accrualMethod_s]             |              |        |\n",
    "|               | Accrual Periodicity | document[b1g_dct_accrualPeriodicity_s]        |              |        |\n",
    "|               | Date Accessioned    | document[b1g_dateAccessioned_sm_attributes][] |              |        |\n",
    "|               | Date Retired        | document[b1g_dateRetired_s]                   |              |        |\n",
    "|               | Status              | document[b1g_status_s]                        |              |        |\n",
    "|               | Publication State   | document[publication_state]                   |              |        |\n",
    "| Accessibility | Gbl suppressed b    | document[gbl_suppressed_b]                    |              |        |\n",
    "|               | Child Record        | document[b1g_child_record_b]                  |              |        |\n",
    "|               | Mediator            | document[b1g_dct_mediator_sm_attributes][]    |              |        |\n",
    "|               | Access              | document[b1g_access_s]                        |              |        |\n"
   ]
  },
  {
   "cell_type": "code",
   "execution_count": null,
   "metadata": {},
   "outputs": [],
   "source": [
    "# Find the name-value pairs and store in a dictionary\n",
    "modifies = {}"
   ]
  },
  {
   "cell_type": "code",
   "execution_count": null,
   "metadata": {},
   "outputs": [],
   "source": [
    "# Hello, please edit here !!!\n",
    "# Example of constructing new-value pairs\n",
    "\n",
    "modifies[\"document[title]\"] = \"I am a new title!\"\n",
    "modifies[\"document[b1g_dateRetired_s]\"] = \"2021-10-03\"\n",
    "modifies[\"document[b1g_status_s]\"] = [\"Inactive\"]\n",
    "modifies[\"document[publication_state]\"] = [\"unpublished\"]"
   ]
  },
  {
   "cell_type": "markdown",
   "metadata": {},
   "source": [
    "## Step 2: Prepare IDs"
   ]
  },
  {
   "cell_type": "code",
   "execution_count": null,
   "metadata": {},
   "outputs": [],
   "source": [
    "# Store ids of documents(or let's say records ) in a list.\n",
    "doc_id = []"
   ]
  },
  {
   "cell_type": "code",
   "execution_count": null,
   "metadata": {},
   "outputs": [],
   "source": [
    "# Hello, please edit here !!\n",
    "# Example of constructing the id list\n",
    "\n",
    "doc_id.append(\"322ee79b35f748869974ec661bd04bbc_10\")\n",
    "doc_id.append(\"322ee79b35f748869974ec661bd04bbc_27\")\n",
    "doc_id.append(\"9b2537e7a6e749328d84ab8d071f5c9f_158\")"
   ]
  },
  {
   "cell_type": "markdown",
   "metadata": {},
   "source": [
    "## Step 3: User Login on GEOMG\n",
    "\n",
    "After preparation, we are ready for interacting with the GEOMG. First thing first, you need to modify the value of `username` and `password` to your own ones for GEOMG login. Make sure your personal information is not exposed on the internet."
   ]
  },
  {
   "cell_type": "code",
   "execution_count": null,
   "metadata": {},
   "outputs": [],
   "source": [
    "# Hello, please edit here !!\n",
    "\n",
    "username = \"<your_username>\"\n",
    "password = \"<your_password>\""
   ]
  },
  {
   "cell_type": "code",
   "execution_count": null,
   "metadata": {},
   "outputs": [],
   "source": [
    "# Perform login \n",
    "login_url = \"https://geomg.lib.umn.edu/users/sign_in\"\n",
    "\n",
    "br = mechanize.Browser()\n",
    "br.set_handle_robots(False)   # ignore robots\n",
    "\n",
    "# browse the Login Page and select the right form for login\n",
    "br.open(login_url)\n",
    "br.select_form(nr=1)\n",
    "\n",
    "# input and submit the username & password\n",
    "br[\"user[email]\"] = username\n",
    "br[\"user[password]\"] = password\n",
    "br.submit()\n",
    "\n",
    "# redirect if successfully logged in\n",
    "if br.geturl() ==  login_url:\n",
    "    print(\">>> Failed to login.\")\n",
    "else:\n",
    "    print('>>>> Successfully logged in.')\n"
   ]
  },
  {
   "cell_type": "markdown",
   "metadata": {},
   "source": [
    "## Step 4: Scrape & Modify Fields Online"
   ]
  },
  {
   "cell_type": "code",
   "execution_count": null,
   "metadata": {},
   "outputs": [],
   "source": [
    "# iterate the 'modifies' dictionary and make updates\n",
    "count = 0\n",
    "nonexist = []\n",
    "failed = []\n",
    "\n",
    "for item in doc_id:\n",
    "    count += 1\n",
    "    item_url = \"https://geomg.lib.umn.edu/documents/{}\".format(item)\n",
    "\n",
    "    try:\n",
    "        br.open(item_url)          # open the edit page for each record\n",
    "        br.select_form(nr=1)       # the index of the form is 1\n",
    "    \n",
    "        # iterate to modify\n",
    "        for name, val in modifies.items:\n",
    "            br[field] = val\n",
    "\n",
    "        # submit the changes for this document\n",
    "        br.submit()\n",
    "        print(\">>> [{}/{}] Updating {} .................... √\".format(count, len(doc_id), item))\n",
    "    \n",
    "    # skip the nonexist record with error code 404 if any error occurs\n",
    "    except mechanize.HTTPError as e:\n",
    "        # ignore the non-exist records\n",
    "        if e.code == 404:\n",
    "            print(\">>> [{}/{}] Updating {} .................... x\".format(count, len(doc_id), item))\n",
    "            nonexist.append(item)\n",
    "        else:\n",
    "            print(\">>> [{}/{}] Updating {} .................... x\".format(count, len(doc_id), item))\n",
    "            failed.append(item)        # store failed item and try again later\n",
    "    except:\n",
    "        print(\">>> [{}/{}] Updating {} .................... x\".format(count, len(doc_id), item))\n",
    "        failed.append(item)\n",
    "            \n",
    "# print out the summary\n",
    "print('\\n-------------- Summary --------------')\n",
    "print('Successful Updates: {}'.format(len(doc_id)-len(nonexist)-len(failed)))\n",
    "print('Records Not Exist: {}'.format(len(nonexist)))\n",
    "print('Failed Updates: {}'.format(len(failed)))\n",
    "\n",
    "if failed:\n",
    "    print('\\n-------------- Manual Edits Needed for Failed Updates --------------')\n",
    "    for item in failed:\n",
    "        item_url = 'https://geomg.lib.umn.edu/documents/{}'.format(item)\n",
    "        print(item_url)"
   ]
  },
  {
   "cell_type": "code",
   "execution_count": null,
   "metadata": {},
   "outputs": [],
   "source": []
  }
 ],
 "metadata": {
  "kernelspec": {
   "display_name": "Python 3",
   "language": "python",
   "name": "python3"
  },
  "language_info": {
   "codemirror_mode": {
    "name": "ipython",
    "version": 3
   },
   "file_extension": ".py",
   "mimetype": "text/x-python",
   "name": "python",
   "nbconvert_exporter": "python",
   "pygments_lexer": "ipython3",
   "version": "3.7.4"
  }
 },
 "nbformat": 4,
 "nbformat_minor": 2
}
